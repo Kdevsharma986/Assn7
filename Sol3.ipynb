{
 "cells": [
  {
   "cell_type": "code",
   "execution_count": null,
   "id": "416242f0-943e-4c93-b793-162f27da9d59",
   "metadata": {},
   "outputs": [],
   "source": [
    "\"\"\"Multiple inheritance is a feature of object-oriented programming languages, including Python,\n",
    "that allows a class to inherit attributes and methods from multiple parent classes. \n",
    "In multiple inheritance, a child class can inherit from more than one parent class, incorporating their functionalities into a single class.\n",
    "\n",
    "Here's an example code that demonstrates multiple inheritance in Python:\"\"\""
   ]
  },
  {
   "cell_type": "code",
   "execution_count": 1,
   "id": "f813dca2-8607-492c-8145-0802b737e646",
   "metadata": {},
   "outputs": [
    {
     "name": "stdout",
     "output_type": "stream",
     "text": [
      "Car is driving.\n",
      "Airplane is driving.\n",
      "Airplane is flying.\n"
     ]
    }
   ],
   "source": [
    "class Vehicle:\n",
    "    def __init__(self, name):\n",
    "        self.name = name\n",
    "\n",
    "    def drive(self):\n",
    "        print(f\"{self.name} is driving.\")\n",
    "\n",
    "class Flyable:\n",
    "    def fly(self):\n",
    "        print(f\"{self.name} is flying.\")\n",
    "\n",
    "class Car(Vehicle):\n",
    "    def __init__(self, name):\n",
    "        super().__init__(name)\n",
    "\n",
    "class Airplane(Vehicle, Flyable):\n",
    "    def __init__(self, name):\n",
    "        super().__init__(name)\n",
    "\n",
    "# Creating instances of the classes\n",
    "car = Car(\"Car\")\n",
    "airplane = Airplane(\"Airplane\")\n",
    "\n",
    "# Accessing inherited methods\n",
    "car.drive() \n",
    "airplane.drive() \n",
    "airplane.fly() \n"
   ]
  },
  {
   "cell_type": "code",
   "execution_count": null,
   "id": "e5800870-ce25-42a6-92d0-488727aa1f95",
   "metadata": {},
   "outputs": [],
   "source": []
  }
 ],
 "metadata": {
  "kernelspec": {
   "display_name": "Python 3 (ipykernel)",
   "language": "python",
   "name": "python3"
  },
  "language_info": {
   "codemirror_mode": {
    "name": "ipython",
    "version": 3
   },
   "file_extension": ".py",
   "mimetype": "text/x-python",
   "name": "python",
   "nbconvert_exporter": "python",
   "pygments_lexer": "ipython3",
   "version": "3.10.8"
  }
 },
 "nbformat": 4,
 "nbformat_minor": 5
}
