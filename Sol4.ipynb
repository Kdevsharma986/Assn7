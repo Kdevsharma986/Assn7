{
 "cells": [
  {
   "cell_type": "code",
   "execution_count": null,
   "id": "dd4bf449-362e-4341-b494-1d3b63f26b10",
   "metadata": {},
   "outputs": [],
   "source": [
    "\"\"\"In Python, getters and setters are methods used to access and modify the attributes (variables) of a class,\n",
    "providing a controlled way to interact with the attributes.\n",
    "They help enforce encapsulation and maintain data integrity by controlling how attribute values are retrieved and updated.\n",
    "\n",
    "A getter is a method used to retrieve the value of an attribute,\n",
    "while a setter is a method used to modify the value of an attribute. By using getters and setters, \n",
    "we can add additional logic or validation before getting or setting attribute values.\n",
    "\n",
    "Here's an example that demonstrates the usage of getter and setter methods in a class:\"\"\""
   ]
  },
  {
   "cell_type": "code",
   "execution_count": null,
   "id": "c9a3f385-0aec-40d9-bc5c-3c849571e032",
   "metadata": {},
   "outputs": [
    {
     "name": "stdout",
     "output_type": "stream",
     "text": [
      "John\n",
      "Alice\n"
     ]
    },
    {
     "ename": "TypeError",
     "evalue": "Name must be a string.",
     "output_type": "error",
     "traceback": [
      "\u001b[0;31m---------------------------------------------------------------------------\u001b[0m",
      "\u001b[0;31mTypeError\u001b[0m                                 Traceback (most recent call last)",
      "Cell \u001b[0;32mIn[3], line 25\u001b[0m\n\u001b[1;32m     22\u001b[0m \u001b[38;5;28mprint\u001b[39m(person\u001b[38;5;241m.\u001b[39mget_name())  \u001b[38;5;66;03m# Output: Alice\u001b[39;00m\n\u001b[1;32m     24\u001b[0m \u001b[38;5;66;03m# Trying to set an invalid name\u001b[39;00m\n\u001b[0;32m---> 25\u001b[0m \u001b[43mperson\u001b[49m\u001b[38;5;241;43m.\u001b[39;49m\u001b[43mset_name\u001b[49m\u001b[43m(\u001b[49m\u001b[38;5;241;43m123\u001b[39;49m\u001b[43m)\u001b[49m  \u001b[38;5;66;03m# Raises a TypeError\u001b[39;00m\n",
      "Cell \u001b[0;32mIn[3], line 12\u001b[0m, in \u001b[0;36mPerson.set_name\u001b[0;34m(self, new_name)\u001b[0m\n\u001b[1;32m     10\u001b[0m     \u001b[38;5;28mself\u001b[39m\u001b[38;5;241m.\u001b[39m_name \u001b[38;5;241m=\u001b[39m new_name\n\u001b[1;32m     11\u001b[0m \u001b[38;5;28;01melse\u001b[39;00m:\n\u001b[0;32m---> 12\u001b[0m     \u001b[38;5;28;01mraise\u001b[39;00m \u001b[38;5;167;01mTypeError\u001b[39;00m(\u001b[38;5;124m\"\u001b[39m\u001b[38;5;124mName must be a string.\u001b[39m\u001b[38;5;124m\"\u001b[39m)\n",
      "\u001b[0;31mTypeError\u001b[0m: Name must be a string."
     ]
    }
   ],
   "source": [
    "class Person:\n",
    "    def __init__(self, name):\n",
    "        self._name = name\n",
    "\n",
    "    def get_name(self):\n",
    "        return self._name\n",
    "\n",
    "    def set_name(self, new_name):\n",
    "        if isinstance(new_name, str):\n",
    "            self._name = new_name\n",
    "        else:\n",
    "            raise TypeError(\"Name must be a string.\")\n",
    "\n",
    "# Creating an instance of the Person class\n",
    "person = Person(\"John\")\n",
    "\n",
    "# Using the getter method\n",
    "print(person.get_name()) \n",
    "\n",
    "# Using the setter method\n",
    "person.set_name(\"Alice\")\n",
    "print(person.get_name())  \n",
    "\n",
    "# Trying to set an invalid name\n",
    "person.set_name(123)  \n"
   ]
  }
 ],
 "metadata": {
  "kernelspec": {
   "display_name": "Python 3 (ipykernel)",
   "language": "python",
   "name": "python3"
  },
  "language_info": {
   "codemirror_mode": {
    "name": "ipython",
    "version": 3
   },
   "file_extension": ".py",
   "mimetype": "text/x-python",
   "name": "python",
   "nbconvert_exporter": "python",
   "pygments_lexer": "ipython3",
   "version": "3.10.8"
  }
 },
 "nbformat": 4,
 "nbformat_minor": 5
}
