{
 "cells": [
  {
   "cell_type": "code",
   "execution_count": 4,
   "id": "16d427c5-568f-48f6-976a-894efad73134",
   "metadata": {},
   "outputs": [
    {
     "name": "stdout",
     "output_type": "stream",
     "text": [
      "Toyota Camry\n",
      "180\n",
      "The Toyota Camry has a seating capacity of 5.\n",
      "The Honda Civic has a seating capacity of 4.\n"
     ]
    }
   ],
   "source": [
    "class Vehicle:\n",
    "    def __init__(self, name_of_vehicle, max_speed, average_of_vehicle):\n",
    "        self.name_of_vehicle = name_of_vehicle\n",
    "        self.max_speed = max_speed\n",
    "        self.average_of_vehicle = average_of_vehicle\n",
    "\n",
    "class Car(Vehicle):\n",
    "    def seating_capacity(self, capacity):\n",
    "        return f\"The {self.name_of_vehicle} has a seating capacity of {capacity}.\"\n",
    "\n",
    "# Creating instances of the Car class\n",
    "car1 = Car(\"Toyota Camry\", 200, 5)\n",
    "car2 = Car(\"Honda Civic\", 180, 4)\n",
    "\n",
    "# Accessing inherited instance variables\n",
    "print(car1.name_of_vehicle)  # Output: Toyota Camry\n",
    "print(car2.max_speed)  # Output: 180\n",
    "\n",
    "# Accessing the method in the Car class\n",
    "print(car1.seating_capacity(5))  # Output: The Toyota Camry has a seating capacity of 5.\n",
    "print(car2.seating_capacity(4))  # Output: The Honda Civic has a seating capacity of 4.\n"
   ]
  },
  {
   "cell_type": "code",
   "execution_count": null,
   "id": "4e6e97f5-0177-456f-bef6-3f7d724ad539",
   "metadata": {},
   "outputs": [],
   "source": []
  }
 ],
 "metadata": {
  "kernelspec": {
   "display_name": "Python 3 (ipykernel)",
   "language": "python",
   "name": "python3"
  },
  "language_info": {
   "codemirror_mode": {
    "name": "ipython",
    "version": 3
   },
   "file_extension": ".py",
   "mimetype": "text/x-python",
   "name": "python",
   "nbconvert_exporter": "python",
   "pygments_lexer": "ipython3",
   "version": "3.10.8"
  }
 },
 "nbformat": 4,
 "nbformat_minor": 5
}
