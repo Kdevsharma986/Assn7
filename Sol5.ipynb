{
 "cells": [
  {
   "cell_type": "code",
   "execution_count": null,
   "id": "6019f707-4512-409f-abb7-b6cd72cb0f70",
   "metadata": {},
   "outputs": [],
   "source": [
    "\"\"\"Method overriding is a concept in object-oriented programming \n",
    "where a subclass provides its own implementation of a method that is already defined in its superclass.\n",
    "This allows the subclass to change or extend the behavior of the inherited method.\n",
    "\n",
    "Here's an example code that demonstrates method overriding in Python:\"\"\""
   ]
  },
  {
   "cell_type": "code",
   "execution_count": 2,
   "id": "58ff7046-b1fc-46a9-b155-39423798b9ba",
   "metadata": {},
   "outputs": [
    {
     "name": "stdout",
     "output_type": "stream",
     "text": [
      "The animal makes a sound.\n",
      "The dog barks.\n",
      "The cat meows.\n"
     ]
    }
   ],
   "source": [
    "class Animal:\n",
    "    def speak(self):\n",
    "        print(\"The animal makes a sound.\")\n",
    "\n",
    "class Dog(Animal):\n",
    "    def speak(self):\n",
    "        print(\"The dog barks.\")\n",
    "\n",
    "class Cat(Animal):\n",
    "    def speak(self):\n",
    "        print(\"The cat meows.\")\n",
    "\n",
    "# Creating instances of the classes\n",
    "animal = Animal()\n",
    "dog = Dog()\n",
    "cat = Cat()\n",
    "\n",
    "# Invoking the overridden methods\n",
    "animal.speak() \n",
    "dog.speak()  \n",
    "cat.speak() \n"
   ]
  },
  {
   "cell_type": "code",
   "execution_count": null,
   "id": "b966984a-6cbc-4fb0-ab2a-c92f132a9caa",
   "metadata": {},
   "outputs": [],
   "source": []
  }
 ],
 "metadata": {
  "kernelspec": {
   "display_name": "Python 3 (ipykernel)",
   "language": "python",
   "name": "python3"
  },
  "language_info": {
   "codemirror_mode": {
    "name": "ipython",
    "version": 3
   },
   "file_extension": ".py",
   "mimetype": "text/x-python",
   "name": "python",
   "nbconvert_exporter": "python",
   "pygments_lexer": "ipython3",
   "version": "3.10.8"
  }
 },
 "nbformat": 4,
 "nbformat_minor": 5
}
